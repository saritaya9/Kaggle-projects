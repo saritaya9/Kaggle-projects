{
 "cells": [
  {
   "cell_type": "code",
   "execution_count": null,
   "metadata": {},
   "outputs": [],
   "source": [
    "def run():\n",
    "  channel = grpc.insecure_channel('localhost:50051')\n",
    "  stub = helloworld_pb2_grpc.GreeterStub(channel)\n",
    "  response = stub.SayHello(helloworld_pb2.HelloRequest(name='you'))\n",
    "  print(\"Greeter client received: \" + response.message)\n",
    "  response = stub.SayHelloAgain(helloworld_pb2.HelloRequest(name='you'))\n",
    "  print(\"Greeter client received: \" + response.message)\n"
   ]
  }
 ],
 "metadata": {
  "kernelspec": {
   "display_name": "Python 3",
   "language": "python",
   "name": "python3"
  },
  "language_info": {
   "codemirror_mode": {
    "name": "ipython",
    "version": 3
   },
   "file_extension": ".py",
   "mimetype": "text/x-python",
   "name": "python",
   "nbconvert_exporter": "python",
   "pygments_lexer": "ipython3",
   "version": "3.6.4"
  }
 },
 "nbformat": 4,
 "nbformat_minor": 2
}
